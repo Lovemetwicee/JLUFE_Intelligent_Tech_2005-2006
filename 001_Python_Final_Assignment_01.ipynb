{
 "cells": [
  {
   "cell_type": "markdown",
   "metadata": {
    "ExecuteTime": {
     "end_time": "2021-07-20T09:16:22.081113Z",
     "start_time": "2021-07-20T09:16:22.072320Z"
    }
   },
   "source": [
    "&emsp;&emsp;&emsp;&emsp;&emsp;&emsp;&emsp;&emsp; **JLUFE**  &emsp;&emsp;&emsp;&emsp;&emsp;&emsp;&emsp;&emsp;&emsp;&emsp;&emsp;&emsp;&emsp;&emsp;&emsp;&emsp;&emsp;&emsp;&emsp;&emsp;&emsp;&emsp;&emsp;&emsp;&emsp;&emsp;&emsp;&emsp;&emsp;&emsp;&emsp;&emsp;&emsp;&ensp;**Fall 2021(Sep-Jan)**  \n",
    "\n",
    "\n",
    "**<div align=\"center\">Homework Assignment Report</div>**\n",
    "<br>\n",
    "\n",
    "**<div align=\"center\">JILIN UNIVERSITY OF FINANCE AND ECONOMICS</div>**\n",
    "<br>\n",
    "\n",
    "**<div align=\"center\"><span style=\"color:blue\">College of Managment Science and Information Engineering</span></div>**\n",
    "\n",
    "**<div align=\"center\">BSc in <span style=\"color:blue\">Data Science and Big Data Technology</span></div>**\n",
    "\n",
    "**<div align=\"center\">(2021)</div>**\n",
    "\n",
    "<br> \n",
    "\n",
    "**<div align=\"center\">MODULE: Intelligent Technology</div>**\n",
    "\n",
    "**<div align=\"center\">Homework Assignment: 01</div>**\n",
    "\n",
    "**<div align=\"center\">Variables and Operators</div>**\n",
    "\n",
    "**<div align=\"center\">16/09/2021</div>**\n",
    "\n",
    "<br>\n",
    "\n",
    "**<div align=\"center\">Submitted by:</div>**\n",
    "\n",
    "**<div align=\"center\"><span style=\"color:blue\">Milan(米兰) 0318021907632 (2005)</span></div>**\n",
    "**<div align=\"center\">QQ: <span style=\"color:blue\">3086215265</span> | Github ID: <span style=\"color:blue\">milaan9</span></div>**"
   ]
  },
  {
   "cell_type": "markdown",
   "metadata": {},
   "source": [
    "# Instructions: \n",
    "\n",
    "\n",
    "1. I have added tips and required learning resources for each question, which helps you to solve the problems. \n",
    "\n",
    "2. Finish the assignment on your **OWN**. **<span style=\"color:red\">Any student find copying/sharing from classmates or internet will get '0' points!!!</span>**\n",
    "\n",
    "3. <span class='label label-default'>Accept this assignment</span> from ➞ **[GitHub Clasroom link](https://classroom.github.com/a/E8YXLgc4)**. This will create a private repository of the assignment in your GitHub Classroom account.\n",
    "\n",
    "4. In your repository <span class='label label-default'>Clone</span> ➞ <span class='label label-default'>Download ZIP</span> on your computer.\n",
    "\n",
    "5. Change your ➞ **College**, **Major**, **Name**, **Student number**, **Class number**, **QQ number** and **GitHub ID**\n",
    "\n",
    "6. Once you finish the Assignment **[convert your .ipynb file into PDF](https://github.com/milaan9/91_Python_Mini_Projects/tree/main/001_Convert_IPython_to_PDF)** (both **.ipynb** and **.pdf** file will be required!)\n",
    "\n",
    "7. To submit your assignment, go to GitHub Classrom repository and <span class='label label-default'>Add file</span> ➞ <span class='label label-default'>Upload files</span> ➞ <span class='label label-default'>Commit changes</span>\n",
    "    1. Replace the question (**.ipynb**) file with your solution (**.ipynb**) file.\n",
    "    2. Also, upload (**.pdf**) converted file of your solution (**.ipynb**) file."
   ]
  },
  {
   "cell_type": "markdown",
   "metadata": {},
   "source": [
    "# Python Assignment 01"
   ]
  },
  {
   "cell_type": "markdown",
   "metadata": {},
   "source": [
    "# Part A ➞ Variables <span class='label label-default'>Level 1</span>"
   ]
  },
  {
   "cell_type": "markdown",
   "metadata": {},
   "source": [
    "1. Write a python comment saying **`Python variables and Constants`**\n",
    "2. Declare a **`first_name`** variable and assign a value to it\n",
    "3. Declare a **`last_name`** variable and assign a value to it\n",
    "4. Declare a **`full_name`** variable and assign a value to it\n",
    "5. Declare a variable **`is_light_on`** and assign a value to it\n",
    "6. Declare multiple variable on one line"
   ]
  },
  {
   "cell_type": "code",
   "execution_count": 11,
   "metadata": {},
   "outputs": [
    {
     "name": "stdout",
     "output_type": "stream",
     "text": [
      "<class 'float'>\n",
      "Alex\n",
      "Ding\n",
      "Alax Ding\n"
     ]
    }
   ],
   "source": [
    "\n",
    "counter = 100 \n",
    "miles = 1000.0 \n",
    "name = \"John\"\n",
    "flag = True  #variables\n",
    "AGE_OF_YOU = 21 #Constants\n",
    "First_name = \"Alex\" \n",
    "Last_name = \"Ding\"\n",
    "Full_name = (\"Alax Ding\")\n",
    "is_light_on = (\"abc\")\n",
    "a=b=c=1\n",
    "print(First_name)\n",
    "print(Last_name)\n",
    "print(Full_name)"
   ]
  },
  {
   "cell_type": "markdown",
   "metadata": {},
   "source": [
    "# Part B ➞ Variables <span class='label label-default'>Level 2</span>"
   ]
  },
  {
   "cell_type": "markdown",
   "metadata": {},
   "source": [
    "1. Check the data type of all your variables using **`type()`** built-in function\n",
    "2. Using the **`len()`** built-in function, find the length of your first name\n",
    "3. Compare the length of your **`first_name`** and your **`last_name`**\n",
    "4. Declare **6** as **`num_1`** and **4** as **`num_2`**\n",
    "    1. Add **`num_1`** and **`num_2`** and assign the value to a variable **`total`**\n",
    "    2. Subtract **`num_2`** from **`num_1`** and assign the value to a variable **difference`**\n",
    "    3. Multiply **`num_2`** and **`num_1`** and assign the value to a variable **`product`**\n",
    "    4. Divide **`num_1`** by **`num_2`** and assign the value to a variable **`division`**\n",
    "    5. Use modulus division to find **`num_2`** divided by **`num_1`** and assign the value to a variable **`remainder`**\n",
    "    6. Calculate **`num_1`** to the power of **`num_2`** and assign the value to a variable **`exp`**\n",
    "    7. Find floor division of **`num_1`** by **`num_2`** and assign the value to a variable **`floor_division`**\n",
    "\n",
    "5. Use the built-in **`input()`** function to get first name, last name, country and age from a user and store the value to their corresponding variable names\n",
    "\n",
    "6. The radius of a circle is **30 meters**.\n",
    "    1. Calculate the area of a circle and assign the value to a variable name of **`area_of_circle`** by taking user **`input()`**\n",
    "    2. Calculate the circumference of a circle and assign the value to a variable name of **`circum_of_circle`** by taking user **`input()`**\n",
    "    3. Take radius as user **`input()`** and calculate the area.\n",
    "\n",
    "7. Run help (**`keywords`**) in Python shell or in your file to check for the Python reserved words or keywords"
   ]
  },
  {
   "cell_type": "code",
   "execution_count": null,
   "metadata": {},
   "outputs": [],
   "source": [
    "counter = 100 \n",
    "miles = 1000.0 \n",
    "name = \"Alex\"\n",
    "flag = True \n",
    "print(type(counter))\n",
    "print(type(miles))\n",
    "print(type(name))\n",
    "print(type(flag))\n",
    "print(len(name))\n"
   ]
  },
  {
   "cell_type": "code",
   "execution_count": null,
   "metadata": {},
   "outputs": [],
   "source": [
    "First_name = \"Alex\" \n",
    "Last_name = \"Ding\"\n",
    "n1 =  len(First_name)\n",
    "n2 =  len(Last_name)\n",
    "if n1>n2 :\n",
    "    print (n1),\n",
    "if n1==n2:\n",
    "    print (n1,n2)\n",
    "if n1<n2:\n",
    "    print(n2)\n"
   ]
  },
  {
   "cell_type": "code",
   "execution_count": null,
   "metadata": {},
   "outputs": [],
   "source": [
    "num_1 = 6\n",
    "num_2 = 4\n",
    "tolal = num_1+ num_2\n",
    "difference= num_1 - num_2\n",
    "product = num_1 * num_2\n",
    "division = num_1/ num_2\n",
    "remainder = num_2%num_1\n",
    "exp = num_1**num_2\n",
    "floor_division = num_1//num_2\n"
   ]
  },
  {
   "cell_type": "code",
   "execution_count": null,
   "metadata": {},
   "outputs": [],
   "source": [
    "first_name = input(\"Enter first_name: \")\n",
    "last_name = input(\"Enter last_name:\")\n",
    "country = input(\"Enter coumtry:\")\n",
    "old = input(\"Enter old:\")"
   ]
  },
  {
   "cell_type": "code",
   "execution_count": 1,
   "metadata": {},
   "outputs": [
    {
     "name": "stdout",
     "output_type": "stream",
     "text": [
      "1413.0\n",
      "188.4\n"
     ]
    }
   ],
   "source": [
    "r = 30\n",
    "pi = 3.14\n",
    "area_of_circle = 0.5*pi*r*r\n",
    "circum_of_circle = 2*pi*r\n",
    "print(area_of_circle)\n",
    "print(circum_of_circle)"
   ]
  },
  {
   "cell_type": "markdown",
   "metadata": {},
   "source": [
    "# Part C ➞ Operators <span class='label label-default'>Level 1</span>"
   ]
  },
  {
   "cell_type": "markdown",
   "metadata": {},
   "source": [
    "1. Declare your age as integer variable\n",
    "2. Declare your height as a float variable\n",
    "3. Declare a variable that store a complex number\n",
    "4. Write a code that prompts the user to enter base and height of the triangle and calculate an area of this triangle (area = 0.5 x b x h).\n",
    "\n",
    "```py\n",
    "    Enter base: 20\n",
    "    Enter height: 10\n",
    "    The area of the triangle is 100\n",
    "```\n",
    "\n",
    "5. Write a code that prompts the user to enter side a, side b, and side c of the triangle. Calculate the perimeter of the triangle (perimeter = a + b + c).\n",
    "\n",
    "```py\n",
    "Enter side a: 5\n",
    "Enter side b: 4\n",
    "Enter side c: 3\n",
    "The perimeter of the triangle is 12\n",
    "```\n",
    "\n",
    "6. Get length and width of a rectangle using prompt. Calculate its area (**area = length x width**) and perimeter (**perimeter = 2 x (length + width)**)\n",
    "7. Get radius of a circle using prompt. Calculate the area (**area = pi x r x r**) and circumference (**c = 2 x pi x r**) where pi = 3.14.\n",
    "8. Calculate the slope, x-intercept and y-intercept of $y = 2x -2$\n",
    "9. Slope is ($m = (y2-y1)/(x2-x1)$). Find the slope and **[Euclidean distance](https://en.wikipedia.org/wiki/Euclidean_distance#:~:text=In%20mathematics%2C%20the%20Euclidean%20distance,being%20called%20the%20Pythagorean%20distance.)** between point (2, 2) and point (6,10) \n",
    "10. Compare the slopes in tasks 8 and 9.\n",
    "11. Calculate the value of y ($y = x^2 + 6x + 9$). Try to use different x values and figure out at what x value y is going to be 0.\n",
    "12. Find the length of **`'python'`** and **`'datascience'`** and compare if the length are same using **`==`**.\n",
    "13. Use **`and`** operator to check if **`on`** is found in both **`python`** and **`cannon`**\n",
    "14. **`I hope this course is not full of jargon`**. Use **`in`** operator to check if **`jargon`** is in the sentence.\n",
    "15. There is no **`on`** in both **`python`** and **`cannon`**\n",
    "16. Find the length of the text **`python`** and convert the value to float and convert it to string\n",
    "17. Even numbers are divisible by 2 and the remainder is zero. How do you check if a number is even or not using python?\n",
    "18. Check if the floor division of 7 by 3 is equal to the int converted value of 2.7.\n",
    "19. Check if type of **\"10\"** is equal to type of 10\n",
    "20. Check if int(**\"9.6\"**) is equal to 10\n",
    "21. Write a code that prompts the user to enter hours and rate per hour. Calculate pay of the person?\n",
    "\n",
    "```py\n",
    "Enter hours: 40\n",
    "Enter rate per hour: 30\n",
    "Your weekly earning is 1200\n",
    "```\n",
    "\n",
    "22. Write a script that prompts the user to enter number of years. Calculate the number of seconds a person can live. Assume a person can live hundred years\n",
    "\n",
    "```py\n",
    "Enter number of years you have lived: 100\n",
    "You have lived for 3153600000 seconds.\n",
    "```\n",
    "\n",
    "23. Write a Python code that displays the following table\n",
    "\n",
    "```py\n",
    "1 2 3 4 5  \n",
    "2 4 6 8 10\n",
    "3 6 9 12 15\n",
    "4 8 12 16 20\n",
    "5 10 15 20 25\n",
    "```"
   ]
  },
  {
   "cell_type": "code",
   "execution_count": 23,
   "metadata": {},
   "outputs": [
    {
     "name": "stdout",
     "output_type": "stream",
     "text": [
      "19\n",
      "144.1\n",
      "(4+67j)\n",
      "Enter base:5\n",
      "Enter heigt:5\n",
      "The area of the triangle is 12.5\n",
      "Enter side a:5\n",
      "Enter side b5\n",
      "Enter side c5\n",
      "The perimeter of the triangle is 15.0\n",
      "Enter lenght:5\n",
      "Enter width:5\n",
      "area is  25.0\n",
      "perimeter is 15.0\n",
      "Enter r:5\n",
      "area is 78.5\n",
      "c is 5.0\n",
      "slope is -0.0\n",
      "x-intercept is 1.0\n",
      "y-intercept is -2\n",
      "xielv is 2.0\n",
      "Euclidean distance is 8.94427190999916\n",
      "9 big\n",
      "Enter x:5\n",
      "y= 64.0\n",
      "no\n",
      "True\n",
      "True\n",
      "True\n",
      "pyth\n",
      "cann\n",
      "6.0\n",
      "6\n",
      "Enter number5\n",
      "number is uneven number\n",
      "same\n",
      "no\n",
      "no\n",
      "Enter hours:5\n",
      "Enter rate per hour:5\n",
      "Your weekly earning is 25.0\n",
      "Enter number of years you have livied:5\n",
      "You have lived for 157680000.0 seconds\n",
      "1 2 3 4 5\n",
      "2 4 6 8 10\n",
      "3 6 9 12 15\n",
      "4 8 12 16 20\n",
      "5 10 15 20 25\n"
     ]
    }
   ],
   "source": [
    "#1\n",
    "age=19\n",
    "print(age)\n",
    "#2\n",
    "height = 144.1\n",
    "print(height)\n",
    "#3\n",
    "n=4+67j\n",
    "print(n)\n",
    "#4\n",
    "base = float(input(\"Enter base:\"))\n",
    "height = float(input(\"Enter heigt:\"))\n",
    "area = 0.5*base*height\n",
    "print(\"The area of the triangle is\",area)\n",
    "#5\n",
    "a= float(input(\"Enter side a:\"))#9\n",
    "b= float(input(\"Enter side b\"))\n",
    "c= float(input(\"Enter side c\"))\n",
    "perimeter = a+b+c\n",
    "print(\"The perimeter of the triangle is\",perimeter)\n",
    "#6\n",
    "lenght = float(input(\"Enter lenght:\"))\n",
    "width = float(input(\"Enter width:\"))\n",
    "area = lenght*width\n",
    "perimer = 2*(lenght+width)\n",
    "print(\"area is \",area)\n",
    "print(\"perimeter is\",perimeter)\n",
    "#7\n",
    "pi= 3.14\n",
    "r= float(input(\"Enter r:\"))\n",
    "area = pi*r*r\n",
    "print(\"area is\",area)\n",
    "print(\"c is\",c)\n",
    "#8\n",
    "x1 = 0\n",
    "y1 = 2*x1-2\n",
    "y2 = 0\n",
    "x2=(y2+2)/2\n",
    "slope = (y2+y2)/(x1-x2)\n",
    "print(\"slope is\",slope)\n",
    "print(\"x-intercept is\",x2)\n",
    "print(\"y-intercept is\",y1)\n",
    "#9\n",
    "x3= 2\n",
    "y3= 2\n",
    "x4 = 6\n",
    "y4 = 10\n",
    "xielv = (y3-y4)/(x3-x4)\n",
    "Euclidean = ((x3-x4)**2+(y3-y4)**2)**0.5\n",
    "print(\"xielv is\",xielv)\n",
    "print(\"Euclidean distance is\",Euclidean)\n",
    "#10\n",
    "if slope>xielv:\n",
    "    print(\"8 big\")\n",
    "elif  slope<xielv:\n",
    "    print(\"9 big\")\n",
    "else:\n",
    "    print(\"same\")\n",
    "    #11\n",
    "x= float(input(\"Enter x:\"))\n",
    "y=x*x+6*x+9\n",
    "print(\"y=\",y)\n",
    "#12\n",
    "p = len(\"python\")\n",
    "d = len(\"datascicence\")\n",
    "if p==d:\n",
    "    print(\"same\")\n",
    "else:\n",
    "    print(\"no\")\n",
    "#13\n",
    "py =\"python\"\n",
    "ca =\"cannon\"\n",
    "w = \"on\"\n",
    "py1 = w in py\n",
    "ca1 = w in ca\n",
    "print(py1)\n",
    "print(ca1)\n",
    "py1 and ca1\n",
    "#14\n",
    "i = \"I hope this course is not full of jargon\"\n",
    "j = \"jargon\"\n",
    "result = j in i\n",
    "print(result)\n",
    "#15\n",
    "print(py.replace('on',''))\n",
    "print(ca.replace('on',''))\n",
    "#16\n",
    "pyt=\"python\"\n",
    "long = float(len(pyt))\n",
    "zifuchuan = str(len(pyt))\n",
    "print(long)\n",
    "print(zifuchuan)\n",
    "#17\n",
    "number = float(input(\"Enter number\"))\n",
    "if number%2==0:\n",
    "    print(\"number is even number\")\n",
    "else :\n",
    "    print(\"number is uneven number\")\n",
    "#18\n",
    "e = 7//3\n",
    "f=2.7\n",
    "g=int(f)\n",
    "if e==g:\n",
    "    print(\"same\")\n",
    "else:\n",
    "    print(\"no\")\n",
    "#19\n",
    "k = type(\"10\")\n",
    "m = type(10)\n",
    "if k==m:\n",
    "    print(\"same\")\n",
    "else:\n",
    "    print(\"no\")\n",
    "#20\n",
    "n = int(9.6)\n",
    "if n==10:\n",
    "    print(\"same\")\n",
    "else:\n",
    "    print(\"no\")\n",
    "#21\n",
    "time = float(input(\"Enter hours:\"))\n",
    "rate = float(input(\"Enter rate per hour:\"))\n",
    "salary = time*rate\n",
    "print(\"Your weekly earning is\",salary)\n",
    "#22\n",
    "year = float(input(\"Enter number of years you have livied:\"))\n",
    "s = year*365*24*60*60\n",
    "print(\"You have lived for\",s,\"seconds\")\n",
    "#23\n",
    "print(\"1 2 3 4 5\\n2 4 6 8 10\\n3 6 9 12 15\\n4 8 12 16 20\\n5 10 15 20 25\")"
   ]
  },
  {
   "cell_type": "code",
   "execution_count": null,
   "metadata": {
    "scrolled": false
   },
   "outputs": [],
   "source": []
  }
 ],
 "metadata": {
  "hide_input": false,
  "kernelspec": {
   "display_name": "Python 3",
   "language": "python",
   "name": "python3"
  },
  "language_info": {
   "codemirror_mode": {
    "name": "ipython",
    "version": 3
   },
   "file_extension": ".py",
   "mimetype": "text/x-python",
   "name": "python",
   "nbconvert_exporter": "python",
   "pygments_lexer": "ipython3",
   "version": "3.8.8"
  },
  "toc": {
   "base_numbering": 1,
   "nav_menu": {},
   "number_sections": true,
   "sideBar": true,
   "skip_h1_title": false,
   "title_cell": "Table of Contents",
   "title_sidebar": "Contents",
   "toc_cell": false,
   "toc_position": {},
   "toc_section_display": true,
   "toc_window_display": false
  },
  "varInspector": {
   "cols": {
    "lenName": 16,
    "lenType": 16,
    "lenVar": 40
   },
   "kernels_config": {
    "python": {
     "delete_cmd_postfix": "",
     "delete_cmd_prefix": "del ",
     "library": "var_list.py",
     "varRefreshCmd": "print(var_dic_list())"
    },
    "r": {
     "delete_cmd_postfix": ") ",
     "delete_cmd_prefix": "rm(",
     "library": "var_list.r",
     "varRefreshCmd": "cat(var_dic_list()) "
    }
   },
   "types_to_exclude": [
    "module",
    "function",
    "builtin_function_or_method",
    "instance",
    "_Feature"
   ],
   "window_display": false
  }
 },
 "nbformat": 4,
 "nbformat_minor": 2
}
